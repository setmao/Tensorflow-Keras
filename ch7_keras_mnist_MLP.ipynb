{
 "cells": [
  {
   "cell_type": "code",
   "execution_count": 2,
   "metadata": {},
   "outputs": [],
   "source": [
    "# Data preprocess\n",
    "\n",
    "from keras.utils import np_utils\n",
    "import numpy as np\n",
    "np.random.seed(10)\n",
    "\n",
    "# load mnist data\n",
    "from keras.datasets import mnist\n",
    "(x_train_image, y_train_label), (x_test_image, y_test_label) = mnist.load_data()\n",
    "\n",
    "# Reshape\n",
    "x_train = x_train_image.reshape(60000, 784).astype('float32')\n",
    "x_test = x_test_image.reshape(10000, 784).astype('float32')\n",
    "\n",
    "# 標準化（0 ~ 255 -> 0 ~ 1）\n",
    "x_train_normalize = x_train / 255\n",
    "x_test_normalize = x_test / 255\n",
    "\n",
    "# One-hot encoding 轉換\n",
    "y_train_one_hot = np_utils.to_categorical(y_train_label)\n",
    "y_test_one_hot = np_utils.to_categorical(y_test_label)"
   ]
  },
  {
   "cell_type": "code",
   "execution_count": 5,
   "metadata": {},
   "outputs": [],
   "source": [
    "# Build model\n",
    "\n",
    "from keras.models import Sequential\n",
    "from keras.layers import Dense\n",
    "\n",
    "# 建立 Sequential 模型\n",
    "model = Sequential()\n",
    "\n",
    "# 建立輸入層及隱藏層\n",
    "model.add(Dense(\n",
    "    # 隱藏層神經元個數 256\n",
    "    units=256,\n",
    "    \n",
    "    # input 神經元個數 784\n",
    "    input_dim=784,\n",
    "    \n",
    "    # 亂數使用常態分佈\n",
    "    kernel_initializer='normal',\n",
    "    \n",
    "    # 激活函數使用 relu\n",
    "    activation='relu'\n",
    "))\n",
    "\n",
    "# 建立輸出層\n",
    "model.add(Dense(\n",
    "    # 輸出層神經元個數 10\n",
    "    units=10,\n",
    "    \n",
    "    # 亂數使用常態分佈\n",
    "    kernel_initializer='normal',\n",
    "    \n",
    "    # 激活函數使用 softmax\n",
    "    activation='softmax'\n",
    "))"
   ]
  },
  {
   "cell_type": "code",
   "execution_count": 7,
   "metadata": {},
   "outputs": [
    {
     "name": "stdout",
     "output_type": "stream",
     "text": [
      "Model: \"sequential_3\"\n",
      "_________________________________________________________________\n",
      "Layer (type)                 Output Shape              Param #   \n",
      "=================================================================\n",
      "dense_1 (Dense)              (None, 256)               200960    \n",
      "_________________________________________________________________\n",
      "dense_2 (Dense)              (None, 10)                2570      \n",
      "=================================================================\n",
      "Total params: 203,530\n",
      "Trainable params: 203,530\n",
      "Non-trainable params: 0\n",
      "_________________________________________________________________\n",
      "None\n"
     ]
    }
   ],
   "source": [
    "# 查看模型摘要\n",
    "print(model.summary())\n",
    "\n",
    "# dense_1 Param = 784 * 256 + 256 = 200960\n",
    "# dense_2 Param = 256 * 10 + 10 = 2570\n",
    "# Total params = 200960 + 2570 = 203530\n",
    "# Trainable params = 200960 + 2570 = 203530\n",
    "# Trainable params 數值越大，代表此模型越複雜，需要更多時間進行訓練"
   ]
  },
  {
   "cell_type": "code",
   "execution_count": 8,
   "metadata": {},
   "outputs": [],
   "source": [
    "# 定義訓練方式\n",
    "model.compile(\n",
    "    # loss function 使用 categorical_crossentropy\n",
    "    loss='categorical_crossentropy',\n",
    "    \n",
    "    # optimizer 使用 ADAM\n",
    "    optimizer='adam',\n",
    "    \n",
    "    # 用準確率來評估此模型\n",
    "    metrics=['accuracy']\n",
    ")"
   ]
  },
  {
   "cell_type": "code",
   "execution_count": 11,
   "metadata": {},
   "outputs": [
    {
     "name": "stdout",
     "output_type": "stream",
     "text": [
      "Train on 48000 samples, validate on 12000 samples\n",
      "Epoch 1/10\n",
      " - 1s - loss: 0.0262 - accuracy: 0.9939 - val_loss: 0.0821 - val_accuracy: 0.9762\n",
      "Epoch 2/10\n",
      " - 1s - loss: 0.0224 - accuracy: 0.9949 - val_loss: 0.0810 - val_accuracy: 0.9765\n",
      "Epoch 3/10\n",
      " - 1s - loss: 0.0184 - accuracy: 0.9959 - val_loss: 0.0783 - val_accuracy: 0.9771\n",
      "Epoch 4/10\n",
      " - 1s - loss: 0.0154 - accuracy: 0.9971 - val_loss: 0.0792 - val_accuracy: 0.9772\n",
      "Epoch 5/10\n",
      " - 1s - loss: 0.0128 - accuracy: 0.9978 - val_loss: 0.0787 - val_accuracy: 0.9782\n",
      "Epoch 6/10\n",
      " - 1s - loss: 0.0104 - accuracy: 0.9984 - val_loss: 0.0772 - val_accuracy: 0.9788\n",
      "Epoch 7/10\n",
      " - 1s - loss: 0.0088 - accuracy: 0.9988 - val_loss: 0.0800 - val_accuracy: 0.9778\n",
      "Epoch 8/10\n",
      " - 1s - loss: 0.0076 - accuracy: 0.9989 - val_loss: 0.0795 - val_accuracy: 0.9787\n",
      "Epoch 9/10\n",
      " - 1s - loss: 0.0072 - accuracy: 0.9990 - val_loss: 0.0835 - val_accuracy: 0.9780\n",
      "Epoch 10/10\n",
      " - 1s - loss: 0.0054 - accuracy: 0.9995 - val_loss: 0.0870 - val_accuracy: 0.9767\n"
     ]
    }
   ],
   "source": [
    "# 開始訓練\n",
    "\n",
    "# 用 fit() 進行訓練\n",
    "# 訓練過程會存在 train_history 中\n",
    "train_history = model.fit(\n",
    "    x=x_train_normalize,\n",
    "    y=y_train_one_hot,\n",
    "    \n",
    "    # 將訓練資料的 0.2(20%) 作為驗證資料\n",
    "    # 即用 60000 * 0.8 = 48000 筆資料來訓練\n",
    "    # 用 60000 * 0.2 = 12000 筆資料來驗證訓練結果\n",
    "    validation_split=0.2,\n",
    "    \n",
    "    # 訓練 10 次\n",
    "    epochs=10,\n",
    "    \n",
    "    # 每一批次為 200 筆資料\n",
    "    batch_size=200,\n",
    "    \n",
    "    # 顯示訓練過程\n",
    "    verbose=2\n",
    ")\n",
    "\n",
    "# loss, accuracy: 使用訓練資料（60000 * 0.8 = 48000）的「誤差(loss)」與「準確度(accuracy)」\n",
    "# val_loss, val_accuracy: 使用驗證資料（60000 * 0.2 = 12000）的「誤差(loss)」與「準確度(accuracy)」"
   ]
  },
  {
   "cell_type": "code",
   "execution_count": 14,
   "metadata": {},
   "outputs": [],
   "source": [
    "# 建立 show_train_history 顯示訓練過程\n",
    "import matplotlib.pyplot as plt\n",
    "def show_train_history(train_histroy, train, validation):\n",
    "    plt.plot(train_history.history[train])\n",
    "    plt.plot(train_history.history[validation])\n",
    "    plt.title('Train History')\n",
    "    plt.ylabel(train)\n",
    "    plt.xlabel('Epoch')\n",
    "\n",
    "    # 設定圖例\n",
    "    plt.legend(['train', 'validation'], loc='upper left')\n",
    "    plt.show()"
   ]
  },
  {
   "cell_type": "code",
   "execution_count": 16,
   "metadata": {},
   "outputs": [
    {
     "data": {
      "image/png": "[encoded data removed]",
      "text/plain": [
       "<Figure size 432x288 with 1 Axes>"
      ]
     },
     "metadata": {
      "needs_background": "light"
     },
     "output_type": "display_data"
    }
   ],
   "source": [
    "# 畫出 accuracy 執行結果\n",
    "show_train_history(train_history, 'accuracy', 'val_accuracy')"
   ]
  },
  {
   "cell_type": "code",
   "execution_count": 17,
   "metadata": {},
   "outputs": [
    {
     "data": {
      "image/png": "[encoded data removed]",
      "text/plain": [
       "<Figure size 432x288 with 1 Axes>"
      ]
     },
     "metadata": {
      "needs_background": "light"
     },
     "output_type": "display_data"
    }
   ],
   "source": [
    "# 畫出 loss 執行結果\n",
    "show_train_history(train_history, 'loss', 'val_loss')"
   ]
  },
  {
   "cell_type": "code",
   "execution_count": 18,
   "metadata": {},
   "outputs": [
    {
     "name": "stdout",
     "output_type": "stream",
     "text": [
      "10000/10000 [==============================] - 0s 13us/step\n",
      "accuracy =  0.9776999950408936\n"
     ]
    }
   ],
   "source": [
    "# 評估模型準確率\n",
    "score = model.evaluate(x_test_normalize, y_test_one_hot)\n",
    "print('accuracy = ', score[1])"
   ]
  },
  {
   "cell_type": "code",
   "execution_count": 21,
   "metadata": {},
   "outputs": [],
   "source": [
    "# 建立 plot_images_labels_prediction() 函數\n",
    "import matplotlib.pyplot as plt\n",
    "def plot_images_labels_prediction(images, labels, prediction, idx, num=10):\n",
    "    fig = plt.gcf()\n",
    "\n",
    "    # 設定顯示圖形的大小\n",
    "    fig.set_size_inches(12, 14)\n",
    "    if num > 25:\n",
    "        num = 25\n",
    "    for i in range(num):\n",
    "\n",
    "        # 建立 subgraph 為 5 * 5\n",
    "        ax = plt.subplot(5, 5, 1 + i)\n",
    "        ax.imshow(images[idx], cmap='binary')\n",
    "        title = 'label = ' + str(labels[idx])\n",
    "        if len(prediction) > 0:\n",
    "            title += ', predict = ' + str(prediction[idx])\n",
    "            \n",
    "        ax.set_title(title, fontsize=10)\n",
    "\n",
    "        # 設定不顯示刻度\n",
    "        ax.set_xticks([])\n",
    "        ax.set_yticks([])\n",
    "        idx += 1\n",
    "    plt.show()"
   ]
  },
  {
   "cell_type": "code",
   "execution_count": 22,
   "metadata": {},
   "outputs": [
    {
     "data": {
      "image/png": "[encoded data removed]",
      "text/plain": [
       "<Figure size 864x1008 with 10 Axes>"
      ]
     },
     "metadata": {},
     "output_type": "display_data"
    }
   ],
   "source": [
    "# 預測\n",
    "prediction = model.predict_classes(x_test)\n",
    "\n",
    "plot_images_labels_prediction(x_test_image, y_test_label, prediction, idx=340)"
   ]
  },
  {
   "cell_type": "code",
   "execution_count": 23,
   "metadata": {},
   "outputs": [
    {
     "data": {
      "text/html": [
       "<div>\n",
       "<style scoped>\n",
       "    .dataframe tbody tr th:only-of-type {\n",
       "        vertical-align: middle;\n",
       "    }\n",
       "\n",
       "    .dataframe tbody tr th {\n",
       "        vertical-align: top;\n",
       "    }\n",
       "\n",
       "    .dataframe thead th {\n",
       "        text-align: right;\n",
       "    }\n",
       "</style>\n",
       "<table border=\"1\" class=\"dataframe\">\n",
       "  <thead>\n",
       "    <tr style=\"text-align: right;\">\n",
       "      <th>predict</th>\n",
       "      <th>0</th>\n",
       "      <th>1</th>\n",
       "      <th>2</th>\n",
       "      <th>3</th>\n",
       "      <th>4</th>\n",
       "      <th>5</th>\n",
       "      <th>6</th>\n",
       "      <th>7</th>\n",
       "      <th>8</th>\n",
       "      <th>9</th>\n",
       "    </tr>\n",
       "    <tr>\n",
       "      <th>label</th>\n",
       "      <th></th>\n",
       "      <th></th>\n",
       "      <th></th>\n",
       "      <th></th>\n",
       "      <th></th>\n",
       "      <th></th>\n",
       "      <th></th>\n",
       "      <th></th>\n",
       "      <th></th>\n",
       "      <th></th>\n",
       "    </tr>\n",
       "  </thead>\n",
       "  <tbody>\n",
       "    <tr>\n",
       "      <th>0</th>\n",
       "      <td>970</td>\n",
       "      <td>0</td>\n",
       "      <td>1</td>\n",
       "      <td>0</td>\n",
       "      <td>1</td>\n",
       "      <td>1</td>\n",
       "      <td>3</td>\n",
       "      <td>1</td>\n",
       "      <td>2</td>\n",
       "      <td>1</td>\n",
       "    </tr>\n",
       "    <tr>\n",
       "      <th>1</th>\n",
       "      <td>0</td>\n",
       "      <td>1130</td>\n",
       "      <td>2</td>\n",
       "      <td>0</td>\n",
       "      <td>0</td>\n",
       "      <td>1</td>\n",
       "      <td>2</td>\n",
       "      <td>0</td>\n",
       "      <td>0</td>\n",
       "      <td>0</td>\n",
       "    </tr>\n",
       "    <tr>\n",
       "      <th>2</th>\n",
       "      <td>5</td>\n",
       "      <td>2</td>\n",
       "      <td>1004</td>\n",
       "      <td>4</td>\n",
       "      <td>1</td>\n",
       "      <td>0</td>\n",
       "      <td>3</td>\n",
       "      <td>8</td>\n",
       "      <td>4</td>\n",
       "      <td>1</td>\n",
       "    </tr>\n",
       "    <tr>\n",
       "      <th>3</th>\n",
       "      <td>0</td>\n",
       "      <td>0</td>\n",
       "      <td>1</td>\n",
       "      <td>991</td>\n",
       "      <td>0</td>\n",
       "      <td>4</td>\n",
       "      <td>0</td>\n",
       "      <td>6</td>\n",
       "      <td>1</td>\n",
       "      <td>7</td>\n",
       "    </tr>\n",
       "    <tr>\n",
       "      <th>4</th>\n",
       "      <td>1</td>\n",
       "      <td>1</td>\n",
       "      <td>1</td>\n",
       "      <td>2</td>\n",
       "      <td>956</td>\n",
       "      <td>0</td>\n",
       "      <td>4</td>\n",
       "      <td>3</td>\n",
       "      <td>0</td>\n",
       "      <td>14</td>\n",
       "    </tr>\n",
       "    <tr>\n",
       "      <th>5</th>\n",
       "      <td>2</td>\n",
       "      <td>0</td>\n",
       "      <td>0</td>\n",
       "      <td>12</td>\n",
       "      <td>1</td>\n",
       "      <td>865</td>\n",
       "      <td>6</td>\n",
       "      <td>1</td>\n",
       "      <td>2</td>\n",
       "      <td>3</td>\n",
       "    </tr>\n",
       "    <tr>\n",
       "      <th>6</th>\n",
       "      <td>5</td>\n",
       "      <td>3</td>\n",
       "      <td>1</td>\n",
       "      <td>2</td>\n",
       "      <td>3</td>\n",
       "      <td>6</td>\n",
       "      <td>938</td>\n",
       "      <td>0</td>\n",
       "      <td>0</td>\n",
       "      <td>0</td>\n",
       "    </tr>\n",
       "    <tr>\n",
       "      <th>7</th>\n",
       "      <td>0</td>\n",
       "      <td>5</td>\n",
       "      <td>5</td>\n",
       "      <td>2</td>\n",
       "      <td>0</td>\n",
       "      <td>0</td>\n",
       "      <td>0</td>\n",
       "      <td>1010</td>\n",
       "      <td>0</td>\n",
       "      <td>6</td>\n",
       "    </tr>\n",
       "    <tr>\n",
       "      <th>8</th>\n",
       "      <td>5</td>\n",
       "      <td>1</td>\n",
       "      <td>5</td>\n",
       "      <td>13</td>\n",
       "      <td>5</td>\n",
       "      <td>9</td>\n",
       "      <td>3</td>\n",
       "      <td>8</td>\n",
       "      <td>914</td>\n",
       "      <td>11</td>\n",
       "    </tr>\n",
       "    <tr>\n",
       "      <th>9</th>\n",
       "      <td>1</td>\n",
       "      <td>3</td>\n",
       "      <td>0</td>\n",
       "      <td>5</td>\n",
       "      <td>3</td>\n",
       "      <td>2</td>\n",
       "      <td>1</td>\n",
       "      <td>7</td>\n",
       "      <td>0</td>\n",
       "      <td>987</td>\n",
       "    </tr>\n",
       "  </tbody>\n",
       "</table>\n",
       "</div>"
      ],
      "text/plain": [
       "predict    0     1     2    3    4    5    6     7    8    9\n",
       "label                                                       \n",
       "0        970     0     1    0    1    1    3     1    2    1\n",
       "1          0  1130     2    0    0    1    2     0    0    0\n",
       "2          5     2  1004    4    1    0    3     8    4    1\n",
       "3          0     0     1  991    0    4    0     6    1    7\n",
       "4          1     1     1    2  956    0    4     3    0   14\n",
       "5          2     0     0   12    1  865    6     1    2    3\n",
       "6          5     3     1    2    3    6  938     0    0    0\n",
       "7          0     5     5    2    0    0    0  1010    0    6\n",
       "8          5     1     5   13    5    9    3     8  914   11\n",
       "9          1     3     0    5    3    2    1     7    0  987"
      ]
     },
     "execution_count": 23,
     "metadata": {},
     "output_type": "execute_result"
    }
   ],
   "source": [
    "# 建立混淆矩陣來看每個數字最容易被誤判成哪個數字\n",
    "import pandas as pd\n",
    "pd.crosstab(\n",
    "    y_test_label,\n",
    "    prediction,\n",
    "    rownames=['label'],\n",
    "    colnames=['predict']\n",
    ")"
   ]
  },
  {
   "cell_type": "code",
   "execution_count": 26,
   "metadata": {},
   "outputs": [
    {
     "data": {
      "text/html": [
       "<div>\n",
       "<style scoped>\n",
       "    .dataframe tbody tr th:only-of-type {\n",
       "        vertical-align: middle;\n",
       "    }\n",
       "\n",
       "    .dataframe tbody tr th {\n",
       "        vertical-align: top;\n",
       "    }\n",
       "\n",
       "    .dataframe thead th {\n",
       "        text-align: right;\n",
       "    }\n",
       "</style>\n",
       "<table border=\"1\" class=\"dataframe\">\n",
       "  <thead>\n",
       "    <tr style=\"text-align: right;\">\n",
       "      <th></th>\n",
       "      <th>label</th>\n",
       "      <th>predict</th>\n",
       "    </tr>\n",
       "  </thead>\n",
       "  <tbody>\n",
       "    <tr>\n",
       "      <th>0</th>\n",
       "      <td>7</td>\n",
       "      <td>7</td>\n",
       "    </tr>\n",
       "    <tr>\n",
       "      <th>1</th>\n",
       "      <td>2</td>\n",
       "      <td>2</td>\n",
       "    </tr>\n",
       "    <tr>\n",
       "      <th>2</th>\n",
       "      <td>1</td>\n",
       "      <td>1</td>\n",
       "    </tr>\n",
       "    <tr>\n",
       "      <th>3</th>\n",
       "      <td>0</td>\n",
       "      <td>0</td>\n",
       "    </tr>\n",
       "    <tr>\n",
       "      <th>4</th>\n",
       "      <td>4</td>\n",
       "      <td>4</td>\n",
       "    </tr>\n",
       "    <tr>\n",
       "      <th>...</th>\n",
       "      <td>...</td>\n",
       "      <td>...</td>\n",
       "    </tr>\n",
       "    <tr>\n",
       "      <th>9995</th>\n",
       "      <td>2</td>\n",
       "      <td>2</td>\n",
       "    </tr>\n",
       "    <tr>\n",
       "      <th>9996</th>\n",
       "      <td>3</td>\n",
       "      <td>3</td>\n",
       "    </tr>\n",
       "    <tr>\n",
       "      <th>9997</th>\n",
       "      <td>4</td>\n",
       "      <td>4</td>\n",
       "    </tr>\n",
       "    <tr>\n",
       "      <th>9998</th>\n",
       "      <td>5</td>\n",
       "      <td>5</td>\n",
       "    </tr>\n",
       "    <tr>\n",
       "      <th>9999</th>\n",
       "      <td>6</td>\n",
       "      <td>6</td>\n",
       "    </tr>\n",
       "  </tbody>\n",
       "</table>\n",
       "<p>10000 rows × 2 columns</p>\n",
       "</div>"
      ],
      "text/plain": [
       "      label  predict\n",
       "0         7        7\n",
       "1         2        2\n",
       "2         1        1\n",
       "3         0        0\n",
       "4         4        4\n",
       "...     ...      ...\n",
       "9995      2        2\n",
       "9996      3        3\n",
       "9997      4        4\n",
       "9998      5        5\n",
       "9999      6        6\n",
       "\n",
       "[10000 rows x 2 columns]"
      ]
     },
     "execution_count": 26,
     "metadata": {},
     "output_type": "execute_result"
    }
   ],
   "source": [
    "# 建立真實值與預測值 dataframe\n",
    "df = pd.DataFrame({'label': y_test_label, 'predict': prediction})\n",
    "df"
   ]
  },
  {
   "cell_type": "code",
   "execution_count": 28,
   "metadata": {},
   "outputs": [
    {
     "data": {
      "text/html": [
       "<div>\n",
       "<style scoped>\n",
       "    .dataframe tbody tr th:only-of-type {\n",
       "        vertical-align: middle;\n",
       "    }\n",
       "\n",
       "    .dataframe tbody tr th {\n",
       "        vertical-align: top;\n",
       "    }\n",
       "\n",
       "    .dataframe thead th {\n",
       "        text-align: right;\n",
       "    }\n",
       "</style>\n",
       "<table border=\"1\" class=\"dataframe\">\n",
       "  <thead>\n",
       "    <tr style=\"text-align: right;\">\n",
       "      <th></th>\n",
       "      <th>label</th>\n",
       "      <th>predict</th>\n",
       "    </tr>\n",
       "  </thead>\n",
       "  <tbody>\n",
       "    <tr>\n",
       "      <th>340</th>\n",
       "      <td>5</td>\n",
       "      <td>3</td>\n",
       "    </tr>\n",
       "    <tr>\n",
       "      <th>1003</th>\n",
       "      <td>5</td>\n",
       "      <td>3</td>\n",
       "    </tr>\n",
       "    <tr>\n",
       "      <th>1393</th>\n",
       "      <td>5</td>\n",
       "      <td>3</td>\n",
       "    </tr>\n",
       "    <tr>\n",
       "      <th>1670</th>\n",
       "      <td>5</td>\n",
       "      <td>3</td>\n",
       "    </tr>\n",
       "    <tr>\n",
       "      <th>2597</th>\n",
       "      <td>5</td>\n",
       "      <td>3</td>\n",
       "    </tr>\n",
       "    <tr>\n",
       "      <th>2810</th>\n",
       "      <td>5</td>\n",
       "      <td>3</td>\n",
       "    </tr>\n",
       "    <tr>\n",
       "      <th>3117</th>\n",
       "      <td>5</td>\n",
       "      <td>3</td>\n",
       "    </tr>\n",
       "    <tr>\n",
       "      <th>3902</th>\n",
       "      <td>5</td>\n",
       "      <td>3</td>\n",
       "    </tr>\n",
       "    <tr>\n",
       "      <th>4271</th>\n",
       "      <td>5</td>\n",
       "      <td>3</td>\n",
       "    </tr>\n",
       "    <tr>\n",
       "      <th>4360</th>\n",
       "      <td>5</td>\n",
       "      <td>3</td>\n",
       "    </tr>\n",
       "    <tr>\n",
       "      <th>5937</th>\n",
       "      <td>5</td>\n",
       "      <td>3</td>\n",
       "    </tr>\n",
       "    <tr>\n",
       "      <th>5972</th>\n",
       "      <td>5</td>\n",
       "      <td>3</td>\n",
       "    </tr>\n",
       "  </tbody>\n",
       "</table>\n",
       "</div>"
      ],
      "text/plain": [
       "      label  predict\n",
       "340       5        3\n",
       "1003      5        3\n",
       "1393      5        3\n",
       "1670      5        3\n",
       "2597      5        3\n",
       "2810      5        3\n",
       "3117      5        3\n",
       "3902      5        3\n",
       "4271      5        3\n",
       "4360      5        3\n",
       "5937      5        3\n",
       "5972      5        3"
      ]
     },
     "execution_count": 28,
     "metadata": {},
     "output_type": "execute_result"
    }
   ],
   "source": [
    "# 查詢 label = 5 但是 predict 為 3 的資料\n",
    "df[(df.label == 5) & (df.predict == 3)]"
   ]
  },
  {
   "cell_type": "code",
   "execution_count": 31,
   "metadata": {},
   "outputs": [
    {
     "data": {
      "image/png": "[encoded data removed]",
      "text/plain": [
       "<Figure size 864x1008 with 1 Axes>"
      ]
     },
     "metadata": {},
     "output_type": "display_data"
    },
    {
     "data": {
      "image/png": "[encoded data removed]",
      "text/plain": [
       "<Figure size 864x1008 with 1 Axes>"
      ]
     },
     "metadata": {},
     "output_type": "display_data"
    },
    {
     "data": {
      "image/png": "[encoded data removed]",
      "text/plain": [
       "<Figure size 864x1008 with 1 Axes>"
      ]
     },
     "metadata": {},
     "output_type": "display_data"
    },
    {
     "data": {
      "image/png": "[encoded data removed]",
      "text/plain": [
       "<Figure size 864x1008 with 1 Axes>"
      ]
     },
     "metadata": {},
     "output_type": "display_data"
    },
    {
     "data": {
      "image/png": "[encoded data removed]",
      "text/plain": [
       "<Figure size 864x1008 with 1 Axes>"
      ]
     },
     "metadata": {},
     "output_type": "display_data"
    },
    {
     "data": {
      "image/png": "[encoded data removed]",
      "text/plain": [
       "<Figure size 864x1008 with 1 Axes>"
      ]
     },
     "metadata": {},
     "output_type": "display_data"
    },
    {
     "data": {
      "image/png": "[encoded data removed]",
      "text/plain": [
       "<Figure size 864x1008 with 1 Axes>"
      ]
     },
     "metadata": {},
     "output_type": "display_data"
    },
    {
     "data": {
      "image/png": "[encoded data removed]",
      "text/plain": [
       "<Figure size 864x1008 with 1 Axes>"
      ]
     },
     "metadata": {},
     "output_type": "display_data"
    },
    {
     "data": {
      "image/png": "[encoded data removed]",
      "text/plain": [
       "<Figure size 864x1008 with 1 Axes>"
      ]
     },
     "metadata": {},
     "output_type": "display_data"
    },
    {
     "data": {
      "image/png": "[encoded data removed]",
      "text/plain": [
       "<Figure size 864x1008 with 1 Axes>"
      ]
     },
     "metadata": {},
     "output_type": "display_data"
    },
    {
     "data": {
      "image/png": "[encoded data removed]",
      "text/plain": [
       "<Figure size 864x1008 with 1 Axes>"
      ]
     },
     "metadata": {},
     "output_type": "display_data"
    },
    {
     "data": {
      "image/png": "[encoded data removed]",
      "text/plain": [
       "<Figure size 864x1008 with 1 Axes>"
      ]
     },
     "metadata": {},
     "output_type": "display_data"
    }
   ],
   "source": [
    "plot_images_labels_prediction(x_test_image, y_test_label, prediction, idx=340, num=1)\n",
    "plot_images_labels_prediction(x_test_image, y_test_label, prediction, idx=1003, num=1)\n",
    "plot_images_labels_prediction(x_test_image, y_test_label, prediction, idx=1393, num=1)\n",
    "plot_images_labels_prediction(x_test_image, y_test_label, prediction, idx=1670, num=1)\n",
    "plot_images_labels_prediction(x_test_image, y_test_label, prediction, idx=2597, num=1)\n",
    "plot_images_labels_prediction(x_test_image, y_test_label, prediction, idx=2810, num=1)\n",
    "plot_images_labels_prediction(x_test_image, y_test_label, prediction, idx=3117, num=1)\n",
    "plot_images_labels_prediction(x_test_image, y_test_label, prediction, idx=3902, num=1)\n",
    "plot_images_labels_prediction(x_test_image, y_test_label, prediction, idx=4271, num=1)\n",
    "plot_images_labels_prediction(x_test_image, y_test_label, prediction, idx=4360, num=1)\n",
    "plot_images_labels_prediction(x_test_image, y_test_label, prediction, idx=5937, num=1)\n",
    "plot_images_labels_prediction(x_test_image, y_test_label, prediction, idx=5972, num=1)"
   ]
  },
  {
   "cell_type": "code",
   "execution_count": 33,
   "metadata": {},
   "outputs": [],
   "source": [
    "# 將隱藏層的神經元個數從 256 增加至 1000 個\n",
    "\n",
    "# 建立 Sequential 模型\n",
    "model = Sequential()\n",
    "\n",
    "# 建立輸入層及隱藏層\n",
    "model.add(Dense(\n",
    "    # 隱藏層神經元個數 1000\n",
    "    units=1000,\n",
    "    \n",
    "    # input 神經元個數 784\n",
    "    input_dim=784,\n",
    "    \n",
    "    # 亂數使用常態分佈\n",
    "    kernel_initializer='normal',\n",
    "    \n",
    "    # 激活函數使用 relu\n",
    "    activation='relu'\n",
    "))\n",
    "\n",
    "# 建立輸出層\n",
    "model.add(Dense(\n",
    "    # 輸出層神經元個數 10\n",
    "    units=10,\n",
    "    \n",
    "    # 亂數使用常態分佈\n",
    "    kernel_initializer='normal',\n",
    "    \n",
    "    # 激活函數使用 softmax\n",
    "    activation='softmax'\n",
    "))"
   ]
  },
  {
   "cell_type": "code",
   "execution_count": 34,
   "metadata": {},
   "outputs": [
    {
     "name": "stdout",
     "output_type": "stream",
     "text": [
      "Model: \"sequential_4\"\n",
      "_________________________________________________________________\n",
      "Layer (type)                 Output Shape              Param #   \n",
      "=================================================================\n",
      "dense_3 (Dense)              (None, 1000)              785000    \n",
      "_________________________________________________________________\n",
      "dense_4 (Dense)              (None, 10)                10010     \n",
      "=================================================================\n",
      "Total params: 795,010\n",
      "Trainable params: 795,010\n",
      "Non-trainable params: 0\n",
      "_________________________________________________________________\n",
      "None\n"
     ]
    }
   ],
   "source": [
    "print(model.summary())"
   ]
  },
  {
   "cell_type": "code",
   "execution_count": 36,
   "metadata": {},
   "outputs": [
    {
     "name": "stdout",
     "output_type": "stream",
     "text": [
      "Train on 48000 samples, validate on 12000 samples\n",
      "Epoch 1/10\n",
      " - 3s - loss: 0.2916 - accuracy: 0.9163 - val_loss: 0.1538 - val_accuracy: 0.9553\n",
      "Epoch 2/10\n",
      " - 3s - loss: 0.1161 - accuracy: 0.9670 - val_loss: 0.1103 - val_accuracy: 0.9670\n",
      "Epoch 3/10\n",
      " - 3s - loss: 0.0723 - accuracy: 0.9792 - val_loss: 0.0903 - val_accuracy: 0.9729\n",
      "Epoch 4/10\n",
      " - 4s - loss: 0.0506 - accuracy: 0.9855 - val_loss: 0.0785 - val_accuracy: 0.9763\n",
      "Epoch 5/10\n",
      " - 4s - loss: 0.0355 - accuracy: 0.9904 - val_loss: 0.0771 - val_accuracy: 0.9768\n",
      "Epoch 6/10\n",
      " - 4s - loss: 0.0247 - accuracy: 0.9938 - val_loss: 0.0780 - val_accuracy: 0.9758\n",
      "Epoch 7/10\n",
      " - 4s - loss: 0.0182 - accuracy: 0.9956 - val_loss: 0.0754 - val_accuracy: 0.9777\n",
      "Epoch 8/10\n",
      " - 4s - loss: 0.0123 - accuracy: 0.9977 - val_loss: 0.0751 - val_accuracy: 0.9781\n",
      "Epoch 9/10\n",
      " - 4s - loss: 0.0094 - accuracy: 0.9983 - val_loss: 0.0680 - val_accuracy: 0.9801\n",
      "Epoch 10/10\n",
      " - 4s - loss: 0.0060 - accuracy: 0.9992 - val_loss: 0.0714 - val_accuracy: 0.9799\n"
     ]
    }
   ],
   "source": [
    "model.compile(\n",
    "    # loss function 使用 categorical_crossentropy\n",
    "    loss='categorical_crossentropy',\n",
    "    \n",
    "    # optimizer 使用 ADAM\n",
    "    optimizer='adam',\n",
    "    \n",
    "    # 用準確率來評估此模型\n",
    "    metrics=['accuracy']\n",
    ")\n",
    "\n",
    "train_history = model.fit(\n",
    "    x=x_train_normalize,\n",
    "    y=y_train_one_hot,\n",
    "    \n",
    "    # 將訓練資料的 0.2(20%) 作為驗證資料\n",
    "    # 即用 60000 * 0.8 = 48000 筆資料來訓練\n",
    "    # 用 60000 * 0.2 = 12000 筆資料來驗證訓練結果\n",
    "    validation_split=0.2,\n",
    "    \n",
    "    # 訓練 10 次\n",
    "    epochs=10,\n",
    "    \n",
    "    # 每一批次為 200 筆資料\n",
    "    batch_size=200,\n",
    "    \n",
    "    # 顯示訓練過程\n",
    "    verbose=2\n",
    ")"
   ]
  },
  {
   "cell_type": "code",
   "execution_count": 37,
   "metadata": {},
   "outputs": [
    {
     "data": {
      "image/png": "[encoded data removed]",
      "text/plain": [
       "<Figure size 432x288 with 1 Axes>"
      ]
     },
     "metadata": {
      "needs_background": "light"
     },
     "output_type": "display_data"
    }
   ],
   "source": [
    "show_train_history(train_history, 'accuracy', 'val_accuracy')\n",
    "\n",
    "# accuracy 與 val_accuracy 相差過大 -> overfitting 嚴重"
   ]
  },
  {
   "cell_type": "code",
   "execution_count": 38,
   "metadata": {},
   "outputs": [
    {
     "name": "stdout",
     "output_type": "stream",
     "text": [
      "10000/10000 [==============================] - 0s 18us/step\n",
      "accuracy =  0.9814000129699707\n"
     ]
    }
   ],
   "source": [
    "# 評估模型準確率\n",
    "score = model.evaluate(x_test_normalize, y_test_one_hot)\n",
    "print('accuracy = ', score[1])"
   ]
  },
  {
   "cell_type": "code",
   "execution_count": 41,
   "metadata": {},
   "outputs": [],
   "source": [
    "from keras.layers import Dropout\n",
    "\n",
    "# 建立 Sequential 模型\n",
    "model = Sequential()\n",
    "\n",
    "# 建立輸入層及隱藏層\n",
    "model.add(Dense(\n",
    "    # 隱藏層神經元個數 1000\n",
    "    units=1000,\n",
    "    \n",
    "    # input 神經元個數 784\n",
    "    input_dim=784,\n",
    "    \n",
    "    # 亂數使用常態分佈\n",
    "    kernel_initializer='normal',\n",
    "    \n",
    "    # 激活函數使用 relu\n",
    "    activation='relu'\n",
    "))\n",
    "\n",
    "# 隨機捨棄 0.5(50%) 的神經元來避免 overfitting\n",
    "model.add(Dropout(0.5))\n",
    "\n",
    "# 建立輸出層\n",
    "model.add(Dense(\n",
    "    # 輸出層神經元個數 10\n",
    "    units=10,\n",
    "    \n",
    "    # 亂數使用常態分佈\n",
    "    kernel_initializer='normal',\n",
    "    \n",
    "    # 激活函數使用 softmax\n",
    "    activation='softmax'\n",
    "))"
   ]
  },
  {
   "cell_type": "code",
   "execution_count": 42,
   "metadata": {},
   "outputs": [
    {
     "name": "stdout",
     "output_type": "stream",
     "text": [
      "Model: \"sequential_5\"\n",
      "_________________________________________________________________\n",
      "Layer (type)                 Output Shape              Param #   \n",
      "=================================================================\n",
      "dense_5 (Dense)              (None, 1000)              785000    \n",
      "_________________________________________________________________\n",
      "dropout_1 (Dropout)          (None, 1000)              0         \n",
      "_________________________________________________________________\n",
      "dense_6 (Dense)              (None, 10)                10010     \n",
      "=================================================================\n",
      "Total params: 795,010\n",
      "Trainable params: 795,010\n",
      "Non-trainable params: 0\n",
      "_________________________________________________________________\n",
      "None\n"
     ]
    }
   ],
   "source": [
    "print(model.summary())"
   ]
  },
  {
   "cell_type": "code",
   "execution_count": 43,
   "metadata": {},
   "outputs": [
    {
     "name": "stdout",
     "output_type": "stream",
     "text": [
      "Train on 48000 samples, validate on 12000 samples\n",
      "Epoch 1/10\n",
      " - 3s - loss: 0.3681 - accuracy: 0.8900 - val_loss: 0.1607 - val_accuracy: 0.9556\n",
      "Epoch 2/10\n",
      " - 2s - loss: 0.1634 - accuracy: 0.9526 - val_loss: 0.1180 - val_accuracy: 0.9656\n",
      "Epoch 3/10\n",
      " - 2s - loss: 0.1162 - accuracy: 0.9657 - val_loss: 0.0972 - val_accuracy: 0.9708\n",
      "Epoch 4/10\n",
      " - 2s - loss: 0.0944 - accuracy: 0.9716 - val_loss: 0.0864 - val_accuracy: 0.9747\n",
      "Epoch 5/10\n",
      " - 2s - loss: 0.0778 - accuracy: 0.9765 - val_loss: 0.0824 - val_accuracy: 0.9754\n",
      "Epoch 6/10\n",
      " - 2s - loss: 0.0641 - accuracy: 0.9809 - val_loss: 0.0756 - val_accuracy: 0.9775\n",
      "Epoch 7/10\n",
      " - 2s - loss: 0.0553 - accuracy: 0.9829 - val_loss: 0.0721 - val_accuracy: 0.9768\n",
      "Epoch 8/10\n",
      " - 2s - loss: 0.0484 - accuracy: 0.9850 - val_loss: 0.0699 - val_accuracy: 0.9785\n",
      "Epoch 9/10\n",
      " - 2s - loss: 0.0420 - accuracy: 0.9868 - val_loss: 0.0706 - val_accuracy: 0.9793\n",
      "Epoch 10/10\n",
      " - 2s - loss: 0.0373 - accuracy: 0.9878 - val_loss: 0.0650 - val_accuracy: 0.9805\n"
     ]
    }
   ],
   "source": [
    "model.compile(\n",
    "    # loss function 使用 categorical_crossentropy\n",
    "    loss='categorical_crossentropy',\n",
    "    \n",
    "    # optimizer 使用 ADAM\n",
    "    optimizer='adam',\n",
    "    \n",
    "    # 用準確率來評估此模型\n",
    "    metrics=['accuracy']\n",
    ")\n",
    "\n",
    "train_history = model.fit(\n",
    "    x=x_train_normalize,\n",
    "    y=y_train_one_hot,\n",
    "    \n",
    "    # 將訓練資料的 0.2(20%) 作為驗證資料\n",
    "    # 即用 60000 * 0.8 = 48000 筆資料來訓練\n",
    "    # 用 60000 * 0.2 = 12000 筆資料來驗證訓練結果\n",
    "    validation_split=0.2,\n",
    "    \n",
    "    # 訓練 10 次\n",
    "    epochs=10,\n",
    "    \n",
    "    # 每一批次為 200 筆資料\n",
    "    batch_size=200,\n",
    "    \n",
    "    # 顯示訓練過程\n",
    "    verbose=2\n",
    ")"
   ]
  },
  {
   "cell_type": "code",
   "execution_count": 44,
   "metadata": {},
   "outputs": [
    {
     "data": {
      "image/png": "[encoded data removed]",
      "text/plain": [
       "<Figure size 432x288 with 1 Axes>"
      ]
     },
     "metadata": {
      "needs_background": "light"
     },
     "output_type": "display_data"
    }
   ],
   "source": [
    "show_train_history(train_history, 'accuracy', 'val_accuracy')\n",
    "# accuracy, val_accuracy 差距變小，overfitting 不嚴重"
   ]
  },
  {
   "cell_type": "code",
   "execution_count": 45,
   "metadata": {},
   "outputs": [
    {
     "name": "stdout",
     "output_type": "stream",
     "text": [
      "10000/10000 [==============================] - 0s 24us/step\n",
      "accuracy =  0.982200026512146\n"
     ]
    }
   ],
   "source": [
    "# 評估模型準確率\n",
    "score = model.evaluate(x_test_normalize, y_test_one_hot)\n",
    "print('accuracy = ', score[1])"
   ]
  },
  {
   "cell_type": "code",
   "execution_count": 46,
   "metadata": {},
   "outputs": [],
   "source": [
    "# 建立 Sequential 模型\n",
    "model = Sequential()\n",
    "\n",
    "# 建立輸入層及隱藏層\n",
    "model.add(Dense(\n",
    "    # 隱藏層神經元個數 1000\n",
    "    units=1000,\n",
    "    \n",
    "    # input 神經元個數 784\n",
    "    input_dim=784,\n",
    "    \n",
    "    # 亂數使用常態分佈\n",
    "    kernel_initializer='normal',\n",
    "    \n",
    "    # 激活函數使用 relu\n",
    "    activation='relu'\n",
    "))\n",
    "\n",
    "# 隨機捨棄 0.5(50%) 的神經元來避免 overfitting\n",
    "model.add(Dropout(0.5))\n",
    "\n",
    "# 建立輸入層及隱藏層\n",
    "model.add(Dense(\n",
    "    # 隱藏層神經元個數 1000\n",
    "    units=1000,\n",
    "    \n",
    "    # input 神經元個數 784\n",
    "    input_dim=784,\n",
    "    \n",
    "    # 亂數使用常態分佈\n",
    "    kernel_initializer='normal',\n",
    "    \n",
    "    # 激活函數使用 relu\n",
    "    activation='relu'\n",
    "))\n",
    "\n",
    "# 隨機捨棄 0.5(50%) 的神經元來避免 overfitting\n",
    "model.add(Dropout(0.5))\n",
    "\n",
    "# 建立輸出層\n",
    "model.add(Dense(\n",
    "    # 輸出層神經元個數 10\n",
    "    units=10,\n",
    "    \n",
    "    # 亂數使用常態分佈\n",
    "    kernel_initializer='normal',\n",
    "    \n",
    "    # 激活函數使用 softmax\n",
    "    activation='softmax'\n",
    "))"
   ]
  },
  {
   "cell_type": "code",
   "execution_count": 47,
   "metadata": {},
   "outputs": [
    {
     "name": "stdout",
     "output_type": "stream",
     "text": [
      "Model: \"sequential_6\"\n",
      "_________________________________________________________________\n",
      "Layer (type)                 Output Shape              Param #   \n",
      "=================================================================\n",
      "dense_7 (Dense)              (None, 1000)              785000    \n",
      "_________________________________________________________________\n",
      "dropout_2 (Dropout)          (None, 1000)              0         \n",
      "_________________________________________________________________\n",
      "dense_8 (Dense)              (None, 1000)              1001000   \n",
      "_________________________________________________________________\n",
      "dropout_3 (Dropout)          (None, 1000)              0         \n",
      "_________________________________________________________________\n",
      "dense_9 (Dense)              (None, 10)                10010     \n",
      "=================================================================\n",
      "Total params: 1,796,010\n",
      "Trainable params: 1,796,010\n",
      "Non-trainable params: 0\n",
      "_________________________________________________________________\n",
      "None\n"
     ]
    }
   ],
   "source": [
    "print(model.summary())"
   ]
  },
  {
   "cell_type": "code",
   "execution_count": 48,
   "metadata": {},
   "outputs": [
    {
     "name": "stdout",
     "output_type": "stream",
     "text": [
      "Train on 48000 samples, validate on 12000 samples\n",
      "Epoch 1/10\n",
      " - 6s - loss: 0.3695 - accuracy: 0.8848 - val_loss: 0.1301 - val_accuracy: 0.9622\n",
      "Epoch 2/10\n",
      " - 6s - loss: 0.1582 - accuracy: 0.9522 - val_loss: 0.1010 - val_accuracy: 0.9685\n",
      "Epoch 3/10\n",
      " - 5s - loss: 0.1184 - accuracy: 0.9629 - val_loss: 0.0871 - val_accuracy: 0.9728\n",
      "Epoch 4/10\n",
      " - 5s - loss: 0.0974 - accuracy: 0.9688 - val_loss: 0.0777 - val_accuracy: 0.9765\n",
      "Epoch 5/10\n",
      " - 5s - loss: 0.0860 - accuracy: 0.9726 - val_loss: 0.0781 - val_accuracy: 0.9779\n",
      "Epoch 6/10\n",
      " - 5s - loss: 0.0745 - accuracy: 0.9765 - val_loss: 0.0770 - val_accuracy: 0.9786\n",
      "Epoch 7/10\n",
      " - 5s - loss: 0.0699 - accuracy: 0.9780 - val_loss: 0.0748 - val_accuracy: 0.9786\n",
      "Epoch 8/10\n",
      " - 5s - loss: 0.0612 - accuracy: 0.9800 - val_loss: 0.0755 - val_accuracy: 0.9793\n",
      "Epoch 9/10\n",
      " - 6s - loss: 0.0567 - accuracy: 0.9820 - val_loss: 0.0781 - val_accuracy: 0.9783\n",
      "Epoch 10/10\n",
      " - 6s - loss: 0.0514 - accuracy: 0.9836 - val_loss: 0.0723 - val_accuracy: 0.9817\n"
     ]
    }
   ],
   "source": [
    "model.compile(\n",
    "    # loss function 使用 categorical_crossentropy\n",
    "    loss='categorical_crossentropy',\n",
    "    \n",
    "    # optimizer 使用 ADAM\n",
    "    optimizer='adam',\n",
    "    \n",
    "    # 用準確率來評估此模型\n",
    "    metrics=['accuracy']\n",
    ")\n",
    "\n",
    "train_history = model.fit(\n",
    "    x=x_train_normalize,\n",
    "    y=y_train_one_hot,\n",
    "    \n",
    "    # 將訓練資料的 0.2(20%) 作為驗證資料\n",
    "    # 即用 60000 * 0.8 = 48000 筆資料來訓練\n",
    "    # 用 60000 * 0.2 = 12000 筆資料來驗證訓練結果\n",
    "    validation_split=0.2,\n",
    "    \n",
    "    # 訓練 10 次\n",
    "    epochs=10,\n",
    "    \n",
    "    # 每一批次為 200 筆資料\n",
    "    batch_size=200,\n",
    "    \n",
    "    # 顯示訓練過程\n",
    "    verbose=2\n",
    ")"
   ]
  },
  {
   "cell_type": "code",
   "execution_count": 49,
   "metadata": {},
   "outputs": [
    {
     "data": {
      "image/png": "[encoded data removed]",
      "text/plain": [
       "<Figure size 432x288 with 1 Axes>"
      ]
     },
     "metadata": {
      "needs_background": "light"
     },
     "output_type": "display_data"
    }
   ],
   "source": [
    "show_train_history(train_history, 'accuracy', 'val_accuracy')\n",
    "# accuracy, val_accuracy 差距極小，基本解決 overfitting"
   ]
  },
  {
   "cell_type": "code",
   "execution_count": 50,
   "metadata": {},
   "outputs": [
    {
     "name": "stdout",
     "output_type": "stream",
     "text": [
      "10000/10000 [==============================] - 0s 30us/step\n",
      "accuracy =  0.9812999963760376\n"
     ]
    }
   ],
   "source": [
    "# 評估模型準確率\n",
    "score = model.evaluate(x_test_normalize, y_test_one_hot)\n",
    "print('accuracy = ', score[1])"
   ]
  },
  {
   "cell_type": "code",
   "execution_count": null,
   "metadata": {},
   "outputs": [],
   "source": []
  }
 ],
 "metadata": {
  "kernelspec": {
   "display_name": "Python 3",
   "language": "python",
   "name": "python3"
  },
  "language_info": {
   "codemirror_mode": {
    "name": "ipython",
    "version": 3
   },
   "file_extension": ".py",
   "mimetype": "text/x-python",
   "name": "python",
   "nbconvert_exporter": "python",
   "pygments_lexer": "ipython3",
   "version": "3.8.2"
  }
 },
 "nbformat": 4,
 "nbformat_minor": 4
}
